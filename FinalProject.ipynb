{
 "cells": [
  {
   "cell_type": "markdown",
   "source": [
    "# Startup Success Prediction\n",
    "Startups are young companies founded to develop a unique product or service with the intention to disrupt industries and change the world while doing it at scale. Startups aim to grow very fast starting with a product called minimum viable product (MVP) that will serve as a test to see whether the product is something the customer wants to use. From there, it will go through iterative growth an innovation looking to rapidly expand its customer base to establish itself in a larger market. The ultimate goal, implicitly or explicitly, is going public through a process known as Initial Public Offering (IPO). Going public offers a chance to investors to cash out, this is known as an exit.\n",
    "<br>\n",
    "Before going public, startups go through several rounds of funding where venture capital firms invest tens or hundreds of millions into these companies hoping to receive the more than 200,000% return Peter Thiel saw when he invested in Facebook 8 years before IPO. However, about 90% of startups fail. Therefore, investors have a very high chance of not getting any return on their investment. This model aims to help rich people get richer. Estimates from this model can then be used to determine whether it is worth investing in a startup.\n",
    "<br>\n",
    "\n",
    "### Objective\n",
    "The objective is to predict whether a startup turns into a success or a failure. The success of a company is defined as the event that gives the company's founders and investors a large sum of money through the process of M&A (Merger and Acquisition) or an IPO. A company would be considered as failed if it had to be shut down.\n",
    "<br>\n",
    "\n",
    "### Dataset Description\n",
    "The data contains industry trends, investment insights (total funding, number of investors, etc.), individual company information (location, industry, etc.), and whether or not the startup has been acquired.\n",
    "<br>\n",
    "The data set has 49 features. Most features in the dataset are self-explanatory. Here we list features that might need further description:\n",
    "**age_first_funding_year**: Is the age of the company in years when it got its first funding.\n",
    "**age_last_funding_year**: Is the age of the company in years when it got its last funding.\n",
    "**has_VC**: Financed by venture capital firms.\n",
    "**has_angel**: Financed by angel. An angel is a high-net-worth individual who invest in early stage companies.\n",
    "\n"
   ],
   "metadata": {
    "collapsed": false
   }
  },
  {
   "cell_type": "markdown",
   "source": [
    "# Data Exploration"
   ],
   "metadata": {
    "collapsed": false
   }
  },
  {
   "cell_type": "code",
   "execution_count": 335,
   "outputs": [
    {
     "data": {
      "text/plain": "   Unnamed: 0 state_code   latitude   longitude zip_code       id  \\\n0        1005         CA  42.358880  -71.056820    92101   c:6669   \n1         204         CA  37.238916 -121.973718    95032  c:16283   \n2        1001         CA  32.901049 -117.192656    92121  c:65620   \n3         738         CA  37.320309 -122.050040    95014  c:42668   \n4        1002         CA  37.779281 -122.419236    94105  c:65806   \n\n            city              Unnamed: 6               name  labels  ...  \\\n0      San Diego                     NaN        Bandsintown       1  ...   \n1      Los Gatos                     NaN          TriCipher       1  ...   \n2      San Diego      San Diego CA 92121              Plixi       1  ...   \n3      Cupertino      Cupertino CA 95014  Solidcore Systems       1  ...   \n4  San Francisco  San Francisco CA 94105     Inhale Digital       0  ...   \n\n  object_id has_VC has_angel has_roundA  has_roundB  has_roundC  has_roundD  \\\n0    c:6669      0         1          0           0           0           0   \n1   c:16283      1         0          0           1           1           1   \n2   c:65620      0         0          1           0           0           0   \n3   c:42668      0         0          0           1           1           1   \n4   c:65806      1         1          0           0           0           0   \n\n   avg_participants  is_top500    status  \n0            1.0000          0  acquired  \n1            4.7500          1  acquired  \n2            4.0000          1  acquired  \n3            3.3333          1  acquired  \n4            1.0000          1    closed  \n\n[5 rows x 49 columns]",
      "text/html": "<div>\n<style scoped>\n    .dataframe tbody tr th:only-of-type {\n        vertical-align: middle;\n    }\n\n    .dataframe tbody tr th {\n        vertical-align: top;\n    }\n\n    .dataframe thead th {\n        text-align: right;\n    }\n</style>\n<table border=\"1\" class=\"dataframe\">\n  <thead>\n    <tr style=\"text-align: right;\">\n      <th></th>\n      <th>Unnamed: 0</th>\n      <th>state_code</th>\n      <th>latitude</th>\n      <th>longitude</th>\n      <th>zip_code</th>\n      <th>id</th>\n      <th>city</th>\n      <th>Unnamed: 6</th>\n      <th>name</th>\n      <th>labels</th>\n      <th>...</th>\n      <th>object_id</th>\n      <th>has_VC</th>\n      <th>has_angel</th>\n      <th>has_roundA</th>\n      <th>has_roundB</th>\n      <th>has_roundC</th>\n      <th>has_roundD</th>\n      <th>avg_participants</th>\n      <th>is_top500</th>\n      <th>status</th>\n    </tr>\n  </thead>\n  <tbody>\n    <tr>\n      <th>0</th>\n      <td>1005</td>\n      <td>CA</td>\n      <td>42.358880</td>\n      <td>-71.056820</td>\n      <td>92101</td>\n      <td>c:6669</td>\n      <td>San Diego</td>\n      <td>NaN</td>\n      <td>Bandsintown</td>\n      <td>1</td>\n      <td>...</td>\n      <td>c:6669</td>\n      <td>0</td>\n      <td>1</td>\n      <td>0</td>\n      <td>0</td>\n      <td>0</td>\n      <td>0</td>\n      <td>1.0000</td>\n      <td>0</td>\n      <td>acquired</td>\n    </tr>\n    <tr>\n      <th>1</th>\n      <td>204</td>\n      <td>CA</td>\n      <td>37.238916</td>\n      <td>-121.973718</td>\n      <td>95032</td>\n      <td>c:16283</td>\n      <td>Los Gatos</td>\n      <td>NaN</td>\n      <td>TriCipher</td>\n      <td>1</td>\n      <td>...</td>\n      <td>c:16283</td>\n      <td>1</td>\n      <td>0</td>\n      <td>0</td>\n      <td>1</td>\n      <td>1</td>\n      <td>1</td>\n      <td>4.7500</td>\n      <td>1</td>\n      <td>acquired</td>\n    </tr>\n    <tr>\n      <th>2</th>\n      <td>1001</td>\n      <td>CA</td>\n      <td>32.901049</td>\n      <td>-117.192656</td>\n      <td>92121</td>\n      <td>c:65620</td>\n      <td>San Diego</td>\n      <td>San Diego CA 92121</td>\n      <td>Plixi</td>\n      <td>1</td>\n      <td>...</td>\n      <td>c:65620</td>\n      <td>0</td>\n      <td>0</td>\n      <td>1</td>\n      <td>0</td>\n      <td>0</td>\n      <td>0</td>\n      <td>4.0000</td>\n      <td>1</td>\n      <td>acquired</td>\n    </tr>\n    <tr>\n      <th>3</th>\n      <td>738</td>\n      <td>CA</td>\n      <td>37.320309</td>\n      <td>-122.050040</td>\n      <td>95014</td>\n      <td>c:42668</td>\n      <td>Cupertino</td>\n      <td>Cupertino CA 95014</td>\n      <td>Solidcore Systems</td>\n      <td>1</td>\n      <td>...</td>\n      <td>c:42668</td>\n      <td>0</td>\n      <td>0</td>\n      <td>0</td>\n      <td>1</td>\n      <td>1</td>\n      <td>1</td>\n      <td>3.3333</td>\n      <td>1</td>\n      <td>acquired</td>\n    </tr>\n    <tr>\n      <th>4</th>\n      <td>1002</td>\n      <td>CA</td>\n      <td>37.779281</td>\n      <td>-122.419236</td>\n      <td>94105</td>\n      <td>c:65806</td>\n      <td>San Francisco</td>\n      <td>San Francisco CA 94105</td>\n      <td>Inhale Digital</td>\n      <td>0</td>\n      <td>...</td>\n      <td>c:65806</td>\n      <td>1</td>\n      <td>1</td>\n      <td>0</td>\n      <td>0</td>\n      <td>0</td>\n      <td>0</td>\n      <td>1.0000</td>\n      <td>1</td>\n      <td>closed</td>\n    </tr>\n  </tbody>\n</table>\n<p>5 rows × 49 columns</p>\n</div>"
     },
     "execution_count": 335,
     "metadata": {},
     "output_type": "execute_result"
    }
   ],
   "source": [
    "import idlelib.tooltip\n",
    "\n",
    "import pandas as pd\n",
    "%matplotlib inline\n",
    "\n",
    "df = pd.read_csv('data_startup.csv')\n",
    "df.head()"
   ],
   "metadata": {
    "collapsed": false
   }
  },
  {
   "cell_type": "markdown",
   "source": [
    "### Cleanup\n",
    "The dataset seems to have some redundant features:\n",
    "Feature **Unnamed: 0** has unique values, ranging from 1 to 1153. Makes us wonder if this was a unique identifier, perhaps an index from a previous database. Safe to drop."
   ],
   "metadata": {
    "collapsed": false
   }
  },
  {
   "cell_type": "code",
   "execution_count": 336,
   "outputs": [
    {
     "name": "stdout",
     "output_type": "stream",
     "text": [
      "Records in dataset: 923\n",
      "Unique values in Unnamed: 0: 923\n"
     ]
    }
   ],
   "source": [
    "records_count = df.shape[0]\n",
    "unnamed_0 = df.iloc[:,0].unique()\n",
    "print(\"Records in dataset:\", records_count)\n",
    "print(\"Unique values in Unnamed: 0:\", len(unnamed_0))\n",
    "df.drop(['Unnamed: 0'], axis=1, inplace=True)"
   ],
   "metadata": {
    "collapsed": false
   }
  },
  {
   "cell_type": "markdown",
   "source": [
    "Feature **Unnamed: 6** is missing some data but the feature seems to be just a merge of **city**, **state_code**, and **zip_code** features. Safe to drop."
   ],
   "metadata": {
    "collapsed": false
   }
  },
  {
   "cell_type": "code",
   "execution_count": 337,
   "outputs": [
    {
     "data": {
      "text/plain": "    state_code zip_code           city              Unnamed: 6\n0           CA    92101      San Diego                     NaN\n1           CA    95032      Los Gatos                     NaN\n2           CA    92121      San Diego      San Diego CA 92121\n3           CA    95014      Cupertino      Cupertino CA 95014\n4           CA    94105  San Francisco  San Francisco CA 94105\n..         ...      ...            ...                     ...\n918         CA    94107  San Francisco                     NaN\n919         MA     1803     Burlington      Burlington MA 1803\n920         CA    94089      Sunnyvale                     NaN\n921         CA    94404  San Francisco                     NaN\n922         CA    95054    Santa Clara    Santa Clara CA 95054\n\n[923 rows x 4 columns]",
      "text/html": "<div>\n<style scoped>\n    .dataframe tbody tr th:only-of-type {\n        vertical-align: middle;\n    }\n\n    .dataframe tbody tr th {\n        vertical-align: top;\n    }\n\n    .dataframe thead th {\n        text-align: right;\n    }\n</style>\n<table border=\"1\" class=\"dataframe\">\n  <thead>\n    <tr style=\"text-align: right;\">\n      <th></th>\n      <th>state_code</th>\n      <th>zip_code</th>\n      <th>city</th>\n      <th>Unnamed: 6</th>\n    </tr>\n  </thead>\n  <tbody>\n    <tr>\n      <th>0</th>\n      <td>CA</td>\n      <td>92101</td>\n      <td>San Diego</td>\n      <td>NaN</td>\n    </tr>\n    <tr>\n      <th>1</th>\n      <td>CA</td>\n      <td>95032</td>\n      <td>Los Gatos</td>\n      <td>NaN</td>\n    </tr>\n    <tr>\n      <th>2</th>\n      <td>CA</td>\n      <td>92121</td>\n      <td>San Diego</td>\n      <td>San Diego CA 92121</td>\n    </tr>\n    <tr>\n      <th>3</th>\n      <td>CA</td>\n      <td>95014</td>\n      <td>Cupertino</td>\n      <td>Cupertino CA 95014</td>\n    </tr>\n    <tr>\n      <th>4</th>\n      <td>CA</td>\n      <td>94105</td>\n      <td>San Francisco</td>\n      <td>San Francisco CA 94105</td>\n    </tr>\n    <tr>\n      <th>...</th>\n      <td>...</td>\n      <td>...</td>\n      <td>...</td>\n      <td>...</td>\n    </tr>\n    <tr>\n      <th>918</th>\n      <td>CA</td>\n      <td>94107</td>\n      <td>San Francisco</td>\n      <td>NaN</td>\n    </tr>\n    <tr>\n      <th>919</th>\n      <td>MA</td>\n      <td>1803</td>\n      <td>Burlington</td>\n      <td>Burlington MA 1803</td>\n    </tr>\n    <tr>\n      <th>920</th>\n      <td>CA</td>\n      <td>94089</td>\n      <td>Sunnyvale</td>\n      <td>NaN</td>\n    </tr>\n    <tr>\n      <th>921</th>\n      <td>CA</td>\n      <td>94404</td>\n      <td>San Francisco</td>\n      <td>NaN</td>\n    </tr>\n    <tr>\n      <th>922</th>\n      <td>CA</td>\n      <td>95054</td>\n      <td>Santa Clara</td>\n      <td>Santa Clara CA 95054</td>\n    </tr>\n  </tbody>\n</table>\n<p>923 rows × 4 columns</p>\n</div>"
     },
     "execution_count": 337,
     "metadata": {},
     "output_type": "execute_result"
    }
   ],
   "source": [
    "df.loc[:, ['state_code', 'zip_code', 'city', 'Unnamed: 6']]"
   ],
   "metadata": {
    "collapsed": false
   }
  },
  {
   "cell_type": "code",
   "execution_count": 338,
   "outputs": [],
   "source": [
    "df.drop(['Unnamed: 6'], axis=1, inplace=True)"
   ],
   "metadata": {
    "collapsed": false
   }
  },
  {
   "cell_type": "markdown",
   "source": [
    "Features **id** and **object_id** are identical. There is no need for either. Safe to drop both."
   ],
   "metadata": {
    "collapsed": false
   }
  },
  {
   "cell_type": "code",
   "execution_count": 339,
   "outputs": [
    {
     "name": "stdout",
     "output_type": "stream",
     "text": [
      "Records in dataset: 923\n",
      "Records where the id feature is equal to the object_id feature: 923\n"
     ]
    }
   ],
   "source": [
    "id_to_obj_id = df['id'] == df['object_id']\n",
    "print(\"Records in dataset:\", records_count)\n",
    "print(\"Records where the id feature is equal to the object_id feature:\", id_to_obj_id.sum())\n",
    "df.drop(['id', 'object_id'], axis=1, inplace=True)"
   ],
   "metadata": {
    "collapsed": false
   }
  },
  {
   "cell_type": "markdown",
   "source": [
    "The **labels** feature seems to be just a binary representation of the **status** feature. Safe to drop the labels feature."
   ],
   "metadata": {
    "collapsed": false
   }
  },
  {
   "cell_type": "code",
   "execution_count": 340,
   "outputs": [
    {
     "data": {
      "text/plain": "    labels    status\n0        1  acquired\n1        1  acquired\n2        1  acquired\n3        1  acquired\n4        0    closed\n5        0    closed\n6        1  acquired\n7        1  acquired\n8        1  acquired\n9        1  acquired\n10       1  acquired\n11       0    closed\n12       0    closed\n13       1  acquired\n14       1  acquired\n15       0    closed\n16       0    closed\n17       1  acquired\n18       1  acquired\n19       0    closed",
      "text/html": "<div>\n<style scoped>\n    .dataframe tbody tr th:only-of-type {\n        vertical-align: middle;\n    }\n\n    .dataframe tbody tr th {\n        vertical-align: top;\n    }\n\n    .dataframe thead th {\n        text-align: right;\n    }\n</style>\n<table border=\"1\" class=\"dataframe\">\n  <thead>\n    <tr style=\"text-align: right;\">\n      <th></th>\n      <th>labels</th>\n      <th>status</th>\n    </tr>\n  </thead>\n  <tbody>\n    <tr>\n      <th>0</th>\n      <td>1</td>\n      <td>acquired</td>\n    </tr>\n    <tr>\n      <th>1</th>\n      <td>1</td>\n      <td>acquired</td>\n    </tr>\n    <tr>\n      <th>2</th>\n      <td>1</td>\n      <td>acquired</td>\n    </tr>\n    <tr>\n      <th>3</th>\n      <td>1</td>\n      <td>acquired</td>\n    </tr>\n    <tr>\n      <th>4</th>\n      <td>0</td>\n      <td>closed</td>\n    </tr>\n    <tr>\n      <th>5</th>\n      <td>0</td>\n      <td>closed</td>\n    </tr>\n    <tr>\n      <th>6</th>\n      <td>1</td>\n      <td>acquired</td>\n    </tr>\n    <tr>\n      <th>7</th>\n      <td>1</td>\n      <td>acquired</td>\n    </tr>\n    <tr>\n      <th>8</th>\n      <td>1</td>\n      <td>acquired</td>\n    </tr>\n    <tr>\n      <th>9</th>\n      <td>1</td>\n      <td>acquired</td>\n    </tr>\n    <tr>\n      <th>10</th>\n      <td>1</td>\n      <td>acquired</td>\n    </tr>\n    <tr>\n      <th>11</th>\n      <td>0</td>\n      <td>closed</td>\n    </tr>\n    <tr>\n      <th>12</th>\n      <td>0</td>\n      <td>closed</td>\n    </tr>\n    <tr>\n      <th>13</th>\n      <td>1</td>\n      <td>acquired</td>\n    </tr>\n    <tr>\n      <th>14</th>\n      <td>1</td>\n      <td>acquired</td>\n    </tr>\n    <tr>\n      <th>15</th>\n      <td>0</td>\n      <td>closed</td>\n    </tr>\n    <tr>\n      <th>16</th>\n      <td>0</td>\n      <td>closed</td>\n    </tr>\n    <tr>\n      <th>17</th>\n      <td>1</td>\n      <td>acquired</td>\n    </tr>\n    <tr>\n      <th>18</th>\n      <td>1</td>\n      <td>acquired</td>\n    </tr>\n    <tr>\n      <th>19</th>\n      <td>0</td>\n      <td>closed</td>\n    </tr>\n  </tbody>\n</table>\n</div>"
     },
     "execution_count": 340,
     "metadata": {},
     "output_type": "execute_result"
    }
   ],
   "source": [
    "df.loc[:, ['labels', 'status']][:20]"
   ],
   "metadata": {
    "collapsed": false
   }
  },
  {
   "cell_type": "code",
   "execution_count": 341,
   "outputs": [],
   "source": [
    "df.drop(['labels'], axis=1, inplace=True)"
   ],
   "metadata": {
    "collapsed": false
   }
  },
  {
   "cell_type": "markdown",
   "source": [
    "The state_code and state_code.1 features are identical. Safe to drop state_code.1"
   ],
   "metadata": {
    "collapsed": false
   }
  },
  {
   "cell_type": "code",
   "execution_count": 342,
   "outputs": [
    {
     "data": {
      "text/plain": "   state_code state_code.1\n0          CA           CA\n1          CA           CA\n2          CA           CA\n3          CA           CA\n4          CA           CA\n5          CA           CA\n6          CA           CA\n7          CA           CA\n8          MA           MA\n9          CA           CA\n10         CA           CA\n11         CA           CA\n12         KY           KY\n13         NY           NY\n14         CO           CO\n15         VA           VA\n16         CA           CA\n17         CA           CA\n18         NY           NY\n19         CA           CA",
      "text/html": "<div>\n<style scoped>\n    .dataframe tbody tr th:only-of-type {\n        vertical-align: middle;\n    }\n\n    .dataframe tbody tr th {\n        vertical-align: top;\n    }\n\n    .dataframe thead th {\n        text-align: right;\n    }\n</style>\n<table border=\"1\" class=\"dataframe\">\n  <thead>\n    <tr style=\"text-align: right;\">\n      <th></th>\n      <th>state_code</th>\n      <th>state_code.1</th>\n    </tr>\n  </thead>\n  <tbody>\n    <tr>\n      <th>0</th>\n      <td>CA</td>\n      <td>CA</td>\n    </tr>\n    <tr>\n      <th>1</th>\n      <td>CA</td>\n      <td>CA</td>\n    </tr>\n    <tr>\n      <th>2</th>\n      <td>CA</td>\n      <td>CA</td>\n    </tr>\n    <tr>\n      <th>3</th>\n      <td>CA</td>\n      <td>CA</td>\n    </tr>\n    <tr>\n      <th>4</th>\n      <td>CA</td>\n      <td>CA</td>\n    </tr>\n    <tr>\n      <th>5</th>\n      <td>CA</td>\n      <td>CA</td>\n    </tr>\n    <tr>\n      <th>6</th>\n      <td>CA</td>\n      <td>CA</td>\n    </tr>\n    <tr>\n      <th>7</th>\n      <td>CA</td>\n      <td>CA</td>\n    </tr>\n    <tr>\n      <th>8</th>\n      <td>MA</td>\n      <td>MA</td>\n    </tr>\n    <tr>\n      <th>9</th>\n      <td>CA</td>\n      <td>CA</td>\n    </tr>\n    <tr>\n      <th>10</th>\n      <td>CA</td>\n      <td>CA</td>\n    </tr>\n    <tr>\n      <th>11</th>\n      <td>CA</td>\n      <td>CA</td>\n    </tr>\n    <tr>\n      <th>12</th>\n      <td>KY</td>\n      <td>KY</td>\n    </tr>\n    <tr>\n      <th>13</th>\n      <td>NY</td>\n      <td>NY</td>\n    </tr>\n    <tr>\n      <th>14</th>\n      <td>CO</td>\n      <td>CO</td>\n    </tr>\n    <tr>\n      <th>15</th>\n      <td>VA</td>\n      <td>VA</td>\n    </tr>\n    <tr>\n      <th>16</th>\n      <td>CA</td>\n      <td>CA</td>\n    </tr>\n    <tr>\n      <th>17</th>\n      <td>CA</td>\n      <td>CA</td>\n    </tr>\n    <tr>\n      <th>18</th>\n      <td>NY</td>\n      <td>NY</td>\n    </tr>\n    <tr>\n      <th>19</th>\n      <td>CA</td>\n      <td>CA</td>\n    </tr>\n  </tbody>\n</table>\n</div>"
     },
     "execution_count": 342,
     "metadata": {},
     "output_type": "execute_result"
    }
   ],
   "source": [
    "df.loc[:, ['state_code', 'state_code.1']][:20]"
   ],
   "metadata": {
    "collapsed": false
   }
  },
  {
   "cell_type": "code",
   "execution_count": 343,
   "outputs": [
    {
     "name": "stdout",
     "output_type": "stream",
     "text": [
      "Difference state_code vs state_code.1: 1 record.\n"
     ]
    },
    {
     "data": {
      "text/plain": "    state_code state_code.1\n515         CA          NaN",
      "text/html": "<div>\n<style scoped>\n    .dataframe tbody tr th:only-of-type {\n        vertical-align: middle;\n    }\n\n    .dataframe tbody tr th {\n        vertical-align: top;\n    }\n\n    .dataframe thead th {\n        text-align: right;\n    }\n</style>\n<table border=\"1\" class=\"dataframe\">\n  <thead>\n    <tr style=\"text-align: right;\">\n      <th></th>\n      <th>state_code</th>\n      <th>state_code.1</th>\n    </tr>\n  </thead>\n  <tbody>\n    <tr>\n      <th>515</th>\n      <td>CA</td>\n      <td>NaN</td>\n    </tr>\n  </tbody>\n</table>\n</div>"
     },
     "execution_count": 343,
     "metadata": {},
     "output_type": "execute_result"
    }
   ],
   "source": [
    "state_comp = df['state_code'] == df['state_code.1']\n",
    "print(\"Difference state_code vs state_code.1:\", records_count - state_comp.sum(), \"record.\")\n",
    "state_diff = df.loc[df['state_code'] != df['state_code.1']]\n",
    "state_diff.loc[:, ['state_code', 'state_code.1']]"
   ],
   "metadata": {
    "collapsed": false
   }
  },
  {
   "cell_type": "markdown",
   "source": [
    "As shown above, further examination between the **state_code** and **state_code.1** features reveals a missing value in feature **state_code.1** in record 515. We still believe **state_code.1** should be droped."
   ],
   "metadata": {
    "collapsed": false
   }
  },
  {
   "cell_type": "code",
   "execution_count": 344,
   "outputs": [],
   "source": [
    "df.drop(['state_code.1'], axis=1, inplace=True)"
   ],
   "metadata": {
    "collapsed": false
   }
  },
  {
   "cell_type": "markdown",
   "source": [
    "Records 832 and 124 are duplicates. Safe to drop one of them."
   ],
   "metadata": {
    "collapsed": false
   }
  },
  {
   "cell_type": "code",
   "execution_count": 345,
   "outputs": [
    {
     "data": {
      "text/plain": "    state_code  latitude   longitude zip_code     city             name  \\\n124         CA  37.54827 -121.988572    94538  Fremont  Redwood Systems   \n832         CA  37.48151 -121.945328    94538  Fremont  Redwood Systems   \n\n    founded_at closed_at first_funding_at last_funding_at  ...  \\\n124   1/1/2008       NaN        10/3/2008       5/30/2012  ...   \n832   1/1/2008       NaN        10/3/2008       5/30/2012  ...   \n\n     is_othercategory  has_VC  has_angel  has_roundA  has_roundB  has_roundC  \\\n124                 1       1          0           1           1           1   \n832                 1       1          0           1           1           1   \n\n     has_roundD  avg_participants  is_top500    status  \n124           0              2.25          1  acquired  \n832           0              2.25          1  acquired  \n\n[2 rows x 43 columns]",
      "text/html": "<div>\n<style scoped>\n    .dataframe tbody tr th:only-of-type {\n        vertical-align: middle;\n    }\n\n    .dataframe tbody tr th {\n        vertical-align: top;\n    }\n\n    .dataframe thead th {\n        text-align: right;\n    }\n</style>\n<table border=\"1\" class=\"dataframe\">\n  <thead>\n    <tr style=\"text-align: right;\">\n      <th></th>\n      <th>state_code</th>\n      <th>latitude</th>\n      <th>longitude</th>\n      <th>zip_code</th>\n      <th>city</th>\n      <th>name</th>\n      <th>founded_at</th>\n      <th>closed_at</th>\n      <th>first_funding_at</th>\n      <th>last_funding_at</th>\n      <th>...</th>\n      <th>is_othercategory</th>\n      <th>has_VC</th>\n      <th>has_angel</th>\n      <th>has_roundA</th>\n      <th>has_roundB</th>\n      <th>has_roundC</th>\n      <th>has_roundD</th>\n      <th>avg_participants</th>\n      <th>is_top500</th>\n      <th>status</th>\n    </tr>\n  </thead>\n  <tbody>\n    <tr>\n      <th>124</th>\n      <td>CA</td>\n      <td>37.54827</td>\n      <td>-121.988572</td>\n      <td>94538</td>\n      <td>Fremont</td>\n      <td>Redwood Systems</td>\n      <td>1/1/2008</td>\n      <td>NaN</td>\n      <td>10/3/2008</td>\n      <td>5/30/2012</td>\n      <td>...</td>\n      <td>1</td>\n      <td>1</td>\n      <td>0</td>\n      <td>1</td>\n      <td>1</td>\n      <td>1</td>\n      <td>0</td>\n      <td>2.25</td>\n      <td>1</td>\n      <td>acquired</td>\n    </tr>\n    <tr>\n      <th>832</th>\n      <td>CA</td>\n      <td>37.48151</td>\n      <td>-121.945328</td>\n      <td>94538</td>\n      <td>Fremont</td>\n      <td>Redwood Systems</td>\n      <td>1/1/2008</td>\n      <td>NaN</td>\n      <td>10/3/2008</td>\n      <td>5/30/2012</td>\n      <td>...</td>\n      <td>1</td>\n      <td>1</td>\n      <td>0</td>\n      <td>1</td>\n      <td>1</td>\n      <td>1</td>\n      <td>0</td>\n      <td>2.25</td>\n      <td>1</td>\n      <td>acquired</td>\n    </tr>\n  </tbody>\n</table>\n<p>2 rows × 43 columns</p>\n</div>"
     },
     "execution_count": 345,
     "metadata": {},
     "output_type": "execute_result"
    }
   ],
   "source": [
    "df.iloc[[124, 832]]"
   ],
   "metadata": {
    "collapsed": false
   }
  },
  {
   "cell_type": "code",
   "execution_count": 346,
   "outputs": [],
   "source": [
    "df.drop(832, axis=0, inplace=True)\n",
    "# Note this creates a gap in the rows index. To reset the index use uncomment the following line:\n",
    "# df = df.reset_index()"
   ],
   "metadata": {
    "collapsed": false
   }
  },
  {
   "cell_type": "markdown",
   "source": [
    "### Missing Values"
   ],
   "metadata": {
    "collapsed": false
   }
  },
  {
   "cell_type": "code",
   "execution_count": 347,
   "outputs": [
    {
     "name": "stdout",
     "output_type": "stream",
     "text": [
      "Total missing values: 891\n"
     ]
    },
    {
     "data": {
      "text/plain": "                          Null Values  % Missing Values\nclosed_at                         587         63.665944\nage_first_milestone_year          152         16.485900\nage_last_milestone_year           152         16.485900",
      "text/html": "<div>\n<style scoped>\n    .dataframe tbody tr th:only-of-type {\n        vertical-align: middle;\n    }\n\n    .dataframe tbody tr th {\n        vertical-align: top;\n    }\n\n    .dataframe thead th {\n        text-align: right;\n    }\n</style>\n<table border=\"1\" class=\"dataframe\">\n  <thead>\n    <tr style=\"text-align: right;\">\n      <th></th>\n      <th>Null Values</th>\n      <th>% Missing Values</th>\n    </tr>\n  </thead>\n  <tbody>\n    <tr>\n      <th>closed_at</th>\n      <td>587</td>\n      <td>63.665944</td>\n    </tr>\n    <tr>\n      <th>age_first_milestone_year</th>\n      <td>152</td>\n      <td>16.485900</td>\n    </tr>\n    <tr>\n      <th>age_last_milestone_year</th>\n      <td>152</td>\n      <td>16.485900</td>\n    </tr>\n  </tbody>\n</table>\n</div>"
     },
     "execution_count": 347,
     "metadata": {},
     "output_type": "execute_result"
    }
   ],
   "source": [
    "print(\"Total missing values:\", df.isnull().sum().sum())\n",
    "missing_values = pd.DataFrame(df.isnull().sum(), columns=[\"Null Values\"])\n",
    "missing_values[\"% Missing Values\"] = (df.isnull().sum() / len(df) * 100)\n",
    "missing_values = missing_values[missing_values[\"% Missing Values\"] > 0]\n",
    "missing_values"
   ],
   "metadata": {
    "collapsed": false
   }
  },
  {
   "cell_type": "markdown",
   "source": [
    "##### Missing values in closed_at"
   ],
   "metadata": {
    "collapsed": false
   }
  },
  {
   "cell_type": "code",
   "execution_count": 348,
   "outputs": [
    {
     "name": "stdout",
     "output_type": "stream",
     "text": [
      "Records where closed_at is missing and the startup status is acquired: 587\n",
      "Records where closed_at is missing and the startup status is closed: 0\n"
     ]
    },
    {
     "data": {
      "text/plain": "    closed_at    status\n0         NaN  acquired\n1         NaN  acquired\n2         NaN  acquired\n3         NaN  acquired\n4   10/1/2012    closed\n5   2/15/2009    closed\n6         NaN  acquired\n7         NaN  acquired\n8         NaN  acquired\n9         NaN  acquired\n10        NaN  acquired\n11  12/2/2011    closed\n12  4/27/2012    closed\n13        NaN  acquired\n14        NaN  acquired\n15  3/28/2010    closed\n16  9/22/2012    closed\n17        NaN  acquired\n18        NaN  acquired\n19  9/10/2011    closed",
      "text/html": "<div>\n<style scoped>\n    .dataframe tbody tr th:only-of-type {\n        vertical-align: middle;\n    }\n\n    .dataframe tbody tr th {\n        vertical-align: top;\n    }\n\n    .dataframe thead th {\n        text-align: right;\n    }\n</style>\n<table border=\"1\" class=\"dataframe\">\n  <thead>\n    <tr style=\"text-align: right;\">\n      <th></th>\n      <th>closed_at</th>\n      <th>status</th>\n    </tr>\n  </thead>\n  <tbody>\n    <tr>\n      <th>0</th>\n      <td>NaN</td>\n      <td>acquired</td>\n    </tr>\n    <tr>\n      <th>1</th>\n      <td>NaN</td>\n      <td>acquired</td>\n    </tr>\n    <tr>\n      <th>2</th>\n      <td>NaN</td>\n      <td>acquired</td>\n    </tr>\n    <tr>\n      <th>3</th>\n      <td>NaN</td>\n      <td>acquired</td>\n    </tr>\n    <tr>\n      <th>4</th>\n      <td>10/1/2012</td>\n      <td>closed</td>\n    </tr>\n    <tr>\n      <th>5</th>\n      <td>2/15/2009</td>\n      <td>closed</td>\n    </tr>\n    <tr>\n      <th>6</th>\n      <td>NaN</td>\n      <td>acquired</td>\n    </tr>\n    <tr>\n      <th>7</th>\n      <td>NaN</td>\n      <td>acquired</td>\n    </tr>\n    <tr>\n      <th>8</th>\n      <td>NaN</td>\n      <td>acquired</td>\n    </tr>\n    <tr>\n      <th>9</th>\n      <td>NaN</td>\n      <td>acquired</td>\n    </tr>\n    <tr>\n      <th>10</th>\n      <td>NaN</td>\n      <td>acquired</td>\n    </tr>\n    <tr>\n      <th>11</th>\n      <td>12/2/2011</td>\n      <td>closed</td>\n    </tr>\n    <tr>\n      <th>12</th>\n      <td>4/27/2012</td>\n      <td>closed</td>\n    </tr>\n    <tr>\n      <th>13</th>\n      <td>NaN</td>\n      <td>acquired</td>\n    </tr>\n    <tr>\n      <th>14</th>\n      <td>NaN</td>\n      <td>acquired</td>\n    </tr>\n    <tr>\n      <th>15</th>\n      <td>3/28/2010</td>\n      <td>closed</td>\n    </tr>\n    <tr>\n      <th>16</th>\n      <td>9/22/2012</td>\n      <td>closed</td>\n    </tr>\n    <tr>\n      <th>17</th>\n      <td>NaN</td>\n      <td>acquired</td>\n    </tr>\n    <tr>\n      <th>18</th>\n      <td>NaN</td>\n      <td>acquired</td>\n    </tr>\n    <tr>\n      <th>19</th>\n      <td>9/10/2011</td>\n      <td>closed</td>\n    </tr>\n  </tbody>\n</table>\n</div>"
     },
     "execution_count": 348,
     "metadata": {},
     "output_type": "execute_result"
    }
   ],
   "source": [
    "closed_acquired = df.loc[(df['closed_at'].isnull()) & (df['status'] == 'acquired')]\n",
    "closed_closed = df.loc[(df['closed_at'].isnull()) & (df['status'] == 'closed')]\n",
    "print(\"Records where closed_at is missing and the startup status is acquired:\", len(closed_acquired))\n",
    "print(\"Records where closed_at is missing and the startup status is closed:\", len(closed_closed))\n",
    "df.loc[:, ['closed_at', 'status']][:20]"
   ],
   "metadata": {
    "collapsed": false
   }
  },
  {
   "cell_type": "markdown",
   "source": [
    "Missing values in the **closed_at** feature seem to be related to a **status** of acquired. Makes sense, if the startup has been acquired or gone public, then it hasn't shut down. With over 63% missing values, it might be wiser to ignore this feature rather than try to impute an arbitrary value. Moreover, knowing when a startup shut down does not help us predict whether it will be successful or not. The startup has already failed."
   ],
   "metadata": {
    "collapsed": false
   }
  },
  {
   "cell_type": "code",
   "execution_count": 353,
   "outputs": [],
   "source": [
    "df.drop(['closed_at'], axis=1, inplace=True)"
   ],
   "metadata": {
    "collapsed": false
   }
  },
  {
   "cell_type": "markdown",
   "source": [
    "##### Missing values in **age_first_milestone_year** and **age_last_milestone_year**"
   ],
   "metadata": {
    "collapsed": false
   }
  },
  {
   "cell_type": "code",
   "execution_count": 358,
   "outputs": [
    {
     "name": "stdout",
     "output_type": "stream",
     "text": [
      "Missing values in age_first_milestone_year and age_last_milestone_year with 0 milestones: 152\n"
     ]
    },
    {
     "data": {
      "text/plain": "     age_first_milestone_year  age_last_milestone_year  milestones\n12                        NaN                      NaN           0\n15                        NaN                      NaN           0\n24                        NaN                      NaN           0\n32                        NaN                      NaN           0\n34                        NaN                      NaN           0\n..                        ...                      ...         ...\n885                       NaN                      NaN           0\n903                       NaN                      NaN           0\n904                       NaN                      NaN           0\n906                       NaN                      NaN           0\n912                       NaN                      NaN           0\n\n[152 rows x 3 columns]",
      "text/html": "<div>\n<style scoped>\n    .dataframe tbody tr th:only-of-type {\n        vertical-align: middle;\n    }\n\n    .dataframe tbody tr th {\n        vertical-align: top;\n    }\n\n    .dataframe thead th {\n        text-align: right;\n    }\n</style>\n<table border=\"1\" class=\"dataframe\">\n  <thead>\n    <tr style=\"text-align: right;\">\n      <th></th>\n      <th>age_first_milestone_year</th>\n      <th>age_last_milestone_year</th>\n      <th>milestones</th>\n    </tr>\n  </thead>\n  <tbody>\n    <tr>\n      <th>12</th>\n      <td>NaN</td>\n      <td>NaN</td>\n      <td>0</td>\n    </tr>\n    <tr>\n      <th>15</th>\n      <td>NaN</td>\n      <td>NaN</td>\n      <td>0</td>\n    </tr>\n    <tr>\n      <th>24</th>\n      <td>NaN</td>\n      <td>NaN</td>\n      <td>0</td>\n    </tr>\n    <tr>\n      <th>32</th>\n      <td>NaN</td>\n      <td>NaN</td>\n      <td>0</td>\n    </tr>\n    <tr>\n      <th>34</th>\n      <td>NaN</td>\n      <td>NaN</td>\n      <td>0</td>\n    </tr>\n    <tr>\n      <th>...</th>\n      <td>...</td>\n      <td>...</td>\n      <td>...</td>\n    </tr>\n    <tr>\n      <th>885</th>\n      <td>NaN</td>\n      <td>NaN</td>\n      <td>0</td>\n    </tr>\n    <tr>\n      <th>903</th>\n      <td>NaN</td>\n      <td>NaN</td>\n      <td>0</td>\n    </tr>\n    <tr>\n      <th>904</th>\n      <td>NaN</td>\n      <td>NaN</td>\n      <td>0</td>\n    </tr>\n    <tr>\n      <th>906</th>\n      <td>NaN</td>\n      <td>NaN</td>\n      <td>0</td>\n    </tr>\n    <tr>\n      <th>912</th>\n      <td>NaN</td>\n      <td>NaN</td>\n      <td>0</td>\n    </tr>\n  </tbody>\n</table>\n<p>152 rows × 3 columns</p>\n</div>"
     },
     "execution_count": 358,
     "metadata": {},
     "output_type": "execute_result"
    }
   ],
   "source": [
    "milestone_first_last = df.loc[(df['age_first_milestone_year'].isnull()) & (df['age_last_milestone_year'].isnull()) & (df['milestones'] == 0)]\n",
    "print(\"Missing values in age_first_milestone_year and age_last_milestone_year with 0 milestones:\", len(milestone_first_last))\n",
    "milestone_first_last.loc[:, ['age_first_milestone_year', 'age_last_milestone_year', 'milestones']]"
   ],
   "metadata": {
    "collapsed": false
   }
  },
  {
   "cell_type": "markdown",
   "source": [
    "After an analysis of the data it was discovered that the same 152 records with missing values in **age_first_milestone_year** and **age_last_milestone_year** features have values of 0 in the **milestones** feature. We decided to zero out the missing values."
   ],
   "metadata": {
    "collapsed": false
   }
  },
  {
   "cell_type": "code",
   "execution_count": 359,
   "outputs": [
    {
     "name": "stdout",
     "output_type": "stream",
     "text": [
      "Total missing values: 0\n"
     ]
    }
   ],
   "source": [
    "df['age_first_milestone_year'].fillna(value=0, inplace=True)\n",
    "df['age_last_milestone_year'].fillna(value=0, inplace=True)\n",
    "print(\"Total missing values:\", df.isnull().sum().sum())"
   ],
   "metadata": {
    "collapsed": false
   }
  },
  {
   "cell_type": "code",
   "execution_count": null,
   "outputs": [],
   "source": [],
   "metadata": {
    "collapsed": false
   }
  }
 ],
 "metadata": {
  "kernelspec": {
   "display_name": "Python 3",
   "language": "python",
   "name": "python3"
  },
  "language_info": {
   "codemirror_mode": {
    "name": "ipython",
    "version": 2
   },
   "file_extension": ".py",
   "mimetype": "text/x-python",
   "name": "python",
   "nbconvert_exporter": "python",
   "pygments_lexer": "ipython2",
   "version": "2.7.6"
  }
 },
 "nbformat": 4,
 "nbformat_minor": 0
}
