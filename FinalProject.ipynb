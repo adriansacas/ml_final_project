{
 "cells": [
  {
   "cell_type": "markdown",
   "source": [
    "# Startup Success Prediction\n",
    "Startups are young companies founded to develop a unique product or service with the intention to disrupt industries and change the world while doing it at scale. Startups aim to grow very fast starting with a product called minimum viable product (MVP) that will serve as a test to see whether the product is something the customer wants to use. From there,it will go through iterative growth an innovation looking to rapidly expand its customer base to establish itself in a larger market. The ultimate goal, implicitly or explicitly, is going public through a process known as Initial Public Offering (IPO). Going public offers a chance to investors to cash out, this is known as an exit.\n",
    "<br>\n",
    "Before going public, startups go through several rounds of funding where venture capital firms invest tens or hundreds of millions into these companies hoping to receive the more than 200,000% return Peter Thiel saw when he invested in Facebook 8 years before IPO. However, about 90% of startups fail. Therefore, investors have a very high chance of not getting any return on their investment. This model aims to help rich people get richer. Estimates from this model can then be used to determine whether it is worth investing in a startup.\n",
    "<br>\n",
    "\n",
    "### Objective\n",
    "The objective is to predict whether a startup turns into a success or a failure. The success of a company is defined as the event that gives the company's founders and investors a large sum of money through the process of M&A (Merger and Acquisition) or an IPO. A company would be considered as failed if it had to be shut down.\n",
    "<br>\n",
    "\n",
    "### Dataset Description\n",
    "The data contains industry trends, investment insights (total funding, number of investors, etc.), individual company information (location, industry, etc.), and whether or not the startup has been acquired."
   ],
   "metadata": {
    "collapsed": false
   }
  },
  {
   "cell_type": "markdown",
   "source": [
    "# Data Exploration"
   ],
   "metadata": {
    "collapsed": false
   }
  },
  {
   "cell_type": "code",
   "execution_count": 19,
   "outputs": [
    {
     "data": {
      "text/plain": "   Unnamed: 0 state_code   latitude   longitude zip_code       id  \\\n0        1005         CA  42.358880  -71.056820    92101   c:6669   \n1         204         CA  37.238916 -121.973718    95032  c:16283   \n2        1001         CA  32.901049 -117.192656    92121  c:65620   \n3         738         CA  37.320309 -122.050040    95014  c:42668   \n4        1002         CA  37.779281 -122.419236    94105  c:65806   \n\n            city              Unnamed: 6               name  labels  ...  \\\n0      San Diego                     NaN        Bandsintown       1  ...   \n1      Los Gatos                     NaN          TriCipher       1  ...   \n2      San Diego      San Diego CA 92121              Plixi       1  ...   \n3      Cupertino      Cupertino CA 95014  Solidcore Systems       1  ...   \n4  San Francisco  San Francisco CA 94105     Inhale Digital       0  ...   \n\n  object_id has_VC has_angel has_roundA  has_roundB  has_roundC  has_roundD  \\\n0    c:6669      0         1          0           0           0           0   \n1   c:16283      1         0          0           1           1           1   \n2   c:65620      0         0          1           0           0           0   \n3   c:42668      0         0          0           1           1           1   \n4   c:65806      1         1          0           0           0           0   \n\n   avg_participants  is_top500    status  \n0            1.0000          0  acquired  \n1            4.7500          1  acquired  \n2            4.0000          1  acquired  \n3            3.3333          1  acquired  \n4            1.0000          1    closed  \n\n[5 rows x 49 columns]",
      "text/html": "<div>\n<style scoped>\n    .dataframe tbody tr th:only-of-type {\n        vertical-align: middle;\n    }\n\n    .dataframe tbody tr th {\n        vertical-align: top;\n    }\n\n    .dataframe thead th {\n        text-align: right;\n    }\n</style>\n<table border=\"1\" class=\"dataframe\">\n  <thead>\n    <tr style=\"text-align: right;\">\n      <th></th>\n      <th>Unnamed: 0</th>\n      <th>state_code</th>\n      <th>latitude</th>\n      <th>longitude</th>\n      <th>zip_code</th>\n      <th>id</th>\n      <th>city</th>\n      <th>Unnamed: 6</th>\n      <th>name</th>\n      <th>labels</th>\n      <th>...</th>\n      <th>object_id</th>\n      <th>has_VC</th>\n      <th>has_angel</th>\n      <th>has_roundA</th>\n      <th>has_roundB</th>\n      <th>has_roundC</th>\n      <th>has_roundD</th>\n      <th>avg_participants</th>\n      <th>is_top500</th>\n      <th>status</th>\n    </tr>\n  </thead>\n  <tbody>\n    <tr>\n      <th>0</th>\n      <td>1005</td>\n      <td>CA</td>\n      <td>42.358880</td>\n      <td>-71.056820</td>\n      <td>92101</td>\n      <td>c:6669</td>\n      <td>San Diego</td>\n      <td>NaN</td>\n      <td>Bandsintown</td>\n      <td>1</td>\n      <td>...</td>\n      <td>c:6669</td>\n      <td>0</td>\n      <td>1</td>\n      <td>0</td>\n      <td>0</td>\n      <td>0</td>\n      <td>0</td>\n      <td>1.0000</td>\n      <td>0</td>\n      <td>acquired</td>\n    </tr>\n    <tr>\n      <th>1</th>\n      <td>204</td>\n      <td>CA</td>\n      <td>37.238916</td>\n      <td>-121.973718</td>\n      <td>95032</td>\n      <td>c:16283</td>\n      <td>Los Gatos</td>\n      <td>NaN</td>\n      <td>TriCipher</td>\n      <td>1</td>\n      <td>...</td>\n      <td>c:16283</td>\n      <td>1</td>\n      <td>0</td>\n      <td>0</td>\n      <td>1</td>\n      <td>1</td>\n      <td>1</td>\n      <td>4.7500</td>\n      <td>1</td>\n      <td>acquired</td>\n    </tr>\n    <tr>\n      <th>2</th>\n      <td>1001</td>\n      <td>CA</td>\n      <td>32.901049</td>\n      <td>-117.192656</td>\n      <td>92121</td>\n      <td>c:65620</td>\n      <td>San Diego</td>\n      <td>San Diego CA 92121</td>\n      <td>Plixi</td>\n      <td>1</td>\n      <td>...</td>\n      <td>c:65620</td>\n      <td>0</td>\n      <td>0</td>\n      <td>1</td>\n      <td>0</td>\n      <td>0</td>\n      <td>0</td>\n      <td>4.0000</td>\n      <td>1</td>\n      <td>acquired</td>\n    </tr>\n    <tr>\n      <th>3</th>\n      <td>738</td>\n      <td>CA</td>\n      <td>37.320309</td>\n      <td>-122.050040</td>\n      <td>95014</td>\n      <td>c:42668</td>\n      <td>Cupertino</td>\n      <td>Cupertino CA 95014</td>\n      <td>Solidcore Systems</td>\n      <td>1</td>\n      <td>...</td>\n      <td>c:42668</td>\n      <td>0</td>\n      <td>0</td>\n      <td>0</td>\n      <td>1</td>\n      <td>1</td>\n      <td>1</td>\n      <td>3.3333</td>\n      <td>1</td>\n      <td>acquired</td>\n    </tr>\n    <tr>\n      <th>4</th>\n      <td>1002</td>\n      <td>CA</td>\n      <td>37.779281</td>\n      <td>-122.419236</td>\n      <td>94105</td>\n      <td>c:65806</td>\n      <td>San Francisco</td>\n      <td>San Francisco CA 94105</td>\n      <td>Inhale Digital</td>\n      <td>0</td>\n      <td>...</td>\n      <td>c:65806</td>\n      <td>1</td>\n      <td>1</td>\n      <td>0</td>\n      <td>0</td>\n      <td>0</td>\n      <td>0</td>\n      <td>1.0000</td>\n      <td>1</td>\n      <td>closed</td>\n    </tr>\n  </tbody>\n</table>\n<p>5 rows × 49 columns</p>\n</div>"
     },
     "execution_count": 19,
     "metadata": {},
     "output_type": "execute_result"
    }
   ],
   "source": [
    "import idlelib.tooltip\n",
    "\n",
    "import pandas as pd\n",
    "\n",
    "df = pd.read_csv('data_startup.csv')\n",
    "df.head()"
   ],
   "metadata": {
    "collapsed": false
   }
  },
  {
   "cell_type": "markdown",
   "source": [
    "### Cleanup\n",
    "The dataset seems to have some redundant features:\n",
    "Unnamed 0: All the values are unique, ranging from 1 to 1153 with some values missing. Makes me wonder if this was a unique ID."
   ],
   "metadata": {
    "collapsed": false
   }
  },
  {
   "cell_type": "code",
   "execution_count": 69,
   "outputs": [
    {
     "name": "stdout",
     "output_type": "stream",
     "text": [
      "Records in dataset: 923\n",
      "Unique values in Unnamed: 0: 923\n"
     ]
    }
   ],
   "source": [
    "records_count = df.shape[0]\n",
    "unnamed_0 = df.iloc[:,0].unique()\n",
    "print(\"Records in dataset:\", records_count)\n",
    "print(\"Unique values in Unnamed: 0:\", len(unnamed_0))"
   ],
   "metadata": {
    "collapsed": false
   }
  },
  {
   "cell_type": "markdown",
   "source": [
    "Feature Unnamed: 6 is missing some data but the feature seems to be just a merge of city, state code, and zip code features. Safe to drop."
   ],
   "metadata": {
    "collapsed": false
   }
  },
  {
   "cell_type": "code",
   "execution_count": 70,
   "outputs": [
    {
     "data": {
      "text/plain": "   state_code zip_code           city              Unnamed: 6\n0          CA    92101      San Diego                     NaN\n1          CA    95032      Los Gatos                     NaN\n2          CA    92121      San Diego      San Diego CA 92121\n3          CA    95014      Cupertino      Cupertino CA 95014\n4          CA    94105  San Francisco  San Francisco CA 94105\n5          CA    94043  Mountain View  Mountain View CA 94043\n6          CA    94041  Mountain View                     NaN\n7          CA    94901     San Rafael                     NaN\n8          MA     1267   Williamstown    Williamstown MA 1267\n9          CA    94306      Palo Alto                     NaN\n10         CA    94025     Menlo Park                     NaN\n11         CA    94025     Menlo Park                     NaN\n12         KY    40204     Louisville                     NaN\n13         NY    11201       Brooklyn                     NaN\n14         CO    80202         Denver                     NaN\n15         VA    22182         Vienna         Vienna VA 22182\n16         CA    94022      Los Altos                     NaN\n17         CA    94010     Burlingame                     NaN\n18         NY    10004       New York       New York NY 10004\n19         CA    94301      Palo Alto                     NaN",
      "text/html": "<div>\n<style scoped>\n    .dataframe tbody tr th:only-of-type {\n        vertical-align: middle;\n    }\n\n    .dataframe tbody tr th {\n        vertical-align: top;\n    }\n\n    .dataframe thead th {\n        text-align: right;\n    }\n</style>\n<table border=\"1\" class=\"dataframe\">\n  <thead>\n    <tr style=\"text-align: right;\">\n      <th></th>\n      <th>state_code</th>\n      <th>zip_code</th>\n      <th>city</th>\n      <th>Unnamed: 6</th>\n    </tr>\n  </thead>\n  <tbody>\n    <tr>\n      <th>0</th>\n      <td>CA</td>\n      <td>92101</td>\n      <td>San Diego</td>\n      <td>NaN</td>\n    </tr>\n    <tr>\n      <th>1</th>\n      <td>CA</td>\n      <td>95032</td>\n      <td>Los Gatos</td>\n      <td>NaN</td>\n    </tr>\n    <tr>\n      <th>2</th>\n      <td>CA</td>\n      <td>92121</td>\n      <td>San Diego</td>\n      <td>San Diego CA 92121</td>\n    </tr>\n    <tr>\n      <th>3</th>\n      <td>CA</td>\n      <td>95014</td>\n      <td>Cupertino</td>\n      <td>Cupertino CA 95014</td>\n    </tr>\n    <tr>\n      <th>4</th>\n      <td>CA</td>\n      <td>94105</td>\n      <td>San Francisco</td>\n      <td>San Francisco CA 94105</td>\n    </tr>\n    <tr>\n      <th>5</th>\n      <td>CA</td>\n      <td>94043</td>\n      <td>Mountain View</td>\n      <td>Mountain View CA 94043</td>\n    </tr>\n    <tr>\n      <th>6</th>\n      <td>CA</td>\n      <td>94041</td>\n      <td>Mountain View</td>\n      <td>NaN</td>\n    </tr>\n    <tr>\n      <th>7</th>\n      <td>CA</td>\n      <td>94901</td>\n      <td>San Rafael</td>\n      <td>NaN</td>\n    </tr>\n    <tr>\n      <th>8</th>\n      <td>MA</td>\n      <td>1267</td>\n      <td>Williamstown</td>\n      <td>Williamstown MA 1267</td>\n    </tr>\n    <tr>\n      <th>9</th>\n      <td>CA</td>\n      <td>94306</td>\n      <td>Palo Alto</td>\n      <td>NaN</td>\n    </tr>\n    <tr>\n      <th>10</th>\n      <td>CA</td>\n      <td>94025</td>\n      <td>Menlo Park</td>\n      <td>NaN</td>\n    </tr>\n    <tr>\n      <th>11</th>\n      <td>CA</td>\n      <td>94025</td>\n      <td>Menlo Park</td>\n      <td>NaN</td>\n    </tr>\n    <tr>\n      <th>12</th>\n      <td>KY</td>\n      <td>40204</td>\n      <td>Louisville</td>\n      <td>NaN</td>\n    </tr>\n    <tr>\n      <th>13</th>\n      <td>NY</td>\n      <td>11201</td>\n      <td>Brooklyn</td>\n      <td>NaN</td>\n    </tr>\n    <tr>\n      <th>14</th>\n      <td>CO</td>\n      <td>80202</td>\n      <td>Denver</td>\n      <td>NaN</td>\n    </tr>\n    <tr>\n      <th>15</th>\n      <td>VA</td>\n      <td>22182</td>\n      <td>Vienna</td>\n      <td>Vienna VA 22182</td>\n    </tr>\n    <tr>\n      <th>16</th>\n      <td>CA</td>\n      <td>94022</td>\n      <td>Los Altos</td>\n      <td>NaN</td>\n    </tr>\n    <tr>\n      <th>17</th>\n      <td>CA</td>\n      <td>94010</td>\n      <td>Burlingame</td>\n      <td>NaN</td>\n    </tr>\n    <tr>\n      <th>18</th>\n      <td>NY</td>\n      <td>10004</td>\n      <td>New York</td>\n      <td>New York NY 10004</td>\n    </tr>\n    <tr>\n      <th>19</th>\n      <td>CA</td>\n      <td>94301</td>\n      <td>Palo Alto</td>\n      <td>NaN</td>\n    </tr>\n  </tbody>\n</table>\n</div>"
     },
     "execution_count": 70,
     "metadata": {},
     "output_type": "execute_result"
    }
   ],
   "source": [
    "df.iloc[:, [1,4,6,7]][:20]"
   ],
   "metadata": {
    "collapsed": false
   }
  },
  {
   "cell_type": "markdown",
   "source": [
    "Features id and object_id are identical. There is no need for either. Safe to drop both."
   ],
   "metadata": {
    "collapsed": false
   }
  },
  {
   "cell_type": "code",
   "execution_count": 71,
   "outputs": [
    {
     "name": "stdout",
     "output_type": "stream",
     "text": [
      "Records in dataset: 923\n",
      "Records where the id feature is equal to the object_id feature: 923\n"
     ]
    }
   ],
   "source": [
    "id_to_obj_id = df.id == df.object_id\n",
    "print(\"Records in dataset:\", records_count)\n",
    "print(\"Records where the id feature is equal to the object_id feature:\", id_to_obj_id.sum())"
   ],
   "metadata": {
    "collapsed": false
   }
  },
  {
   "cell_type": "markdown",
   "source": [
    "The labels feature seems to be just a binary representation of the status feature. Safe to drop the status feature."
   ],
   "metadata": {
    "collapsed": false
   }
  },
  {
   "cell_type": "code",
   "execution_count": 72,
   "outputs": [
    {
     "data": {
      "text/plain": "    labels    status\n0        1  acquired\n1        1  acquired\n2        1  acquired\n3        1  acquired\n4        0    closed\n5        0    closed\n6        1  acquired\n7        1  acquired\n8        1  acquired\n9        1  acquired\n10       1  acquired\n11       0    closed\n12       0    closed\n13       1  acquired\n14       1  acquired\n15       0    closed\n16       0    closed\n17       1  acquired\n18       1  acquired\n19       0    closed",
      "text/html": "<div>\n<style scoped>\n    .dataframe tbody tr th:only-of-type {\n        vertical-align: middle;\n    }\n\n    .dataframe tbody tr th {\n        vertical-align: top;\n    }\n\n    .dataframe thead th {\n        text-align: right;\n    }\n</style>\n<table border=\"1\" class=\"dataframe\">\n  <thead>\n    <tr style=\"text-align: right;\">\n      <th></th>\n      <th>labels</th>\n      <th>status</th>\n    </tr>\n  </thead>\n  <tbody>\n    <tr>\n      <th>0</th>\n      <td>1</td>\n      <td>acquired</td>\n    </tr>\n    <tr>\n      <th>1</th>\n      <td>1</td>\n      <td>acquired</td>\n    </tr>\n    <tr>\n      <th>2</th>\n      <td>1</td>\n      <td>acquired</td>\n    </tr>\n    <tr>\n      <th>3</th>\n      <td>1</td>\n      <td>acquired</td>\n    </tr>\n    <tr>\n      <th>4</th>\n      <td>0</td>\n      <td>closed</td>\n    </tr>\n    <tr>\n      <th>5</th>\n      <td>0</td>\n      <td>closed</td>\n    </tr>\n    <tr>\n      <th>6</th>\n      <td>1</td>\n      <td>acquired</td>\n    </tr>\n    <tr>\n      <th>7</th>\n      <td>1</td>\n      <td>acquired</td>\n    </tr>\n    <tr>\n      <th>8</th>\n      <td>1</td>\n      <td>acquired</td>\n    </tr>\n    <tr>\n      <th>9</th>\n      <td>1</td>\n      <td>acquired</td>\n    </tr>\n    <tr>\n      <th>10</th>\n      <td>1</td>\n      <td>acquired</td>\n    </tr>\n    <tr>\n      <th>11</th>\n      <td>0</td>\n      <td>closed</td>\n    </tr>\n    <tr>\n      <th>12</th>\n      <td>0</td>\n      <td>closed</td>\n    </tr>\n    <tr>\n      <th>13</th>\n      <td>1</td>\n      <td>acquired</td>\n    </tr>\n    <tr>\n      <th>14</th>\n      <td>1</td>\n      <td>acquired</td>\n    </tr>\n    <tr>\n      <th>15</th>\n      <td>0</td>\n      <td>closed</td>\n    </tr>\n    <tr>\n      <th>16</th>\n      <td>0</td>\n      <td>closed</td>\n    </tr>\n    <tr>\n      <th>17</th>\n      <td>1</td>\n      <td>acquired</td>\n    </tr>\n    <tr>\n      <th>18</th>\n      <td>1</td>\n      <td>acquired</td>\n    </tr>\n    <tr>\n      <th>19</th>\n      <td>0</td>\n      <td>closed</td>\n    </tr>\n  </tbody>\n</table>\n</div>"
     },
     "execution_count": 72,
     "metadata": {},
     "output_type": "execute_result"
    }
   ],
   "source": [
    "df.loc[:, ['labels', 'status']][:20]"
   ],
   "metadata": {
    "collapsed": false
   }
  },
  {
   "cell_type": "markdown",
   "source": [
    "Records 832 and 124 are duplicates. Safe to drop one of them."
   ],
   "metadata": {
    "collapsed": false
   }
  },
  {
   "cell_type": "code",
   "execution_count": 73,
   "outputs": [
    {
     "data": {
      "text/plain": "     Unnamed: 0 state_code  latitude   longitude zip_code       id     city  \\\n124         506         CA  37.54827 -121.988572    94538  c:28482  Fremont   \n832         505         CA  37.48151 -121.945328    94538  c:28482  Fremont   \n\n           Unnamed: 6             name  labels  ... object_id has_VC  \\\n124  Fremont CA 94538  Redwood Systems       1  ...   c:28482      1   \n832               NaN  Redwood Systems       1  ...   c:28482      1   \n\n    has_angel has_roundA  has_roundB  has_roundC  has_roundD  \\\n124         0          1           1           1           0   \n832         0          1           1           1           0   \n\n     avg_participants  is_top500    status  \n124              2.25          1  acquired  \n832              2.25          1  acquired  \n\n[2 rows x 49 columns]",
      "text/html": "<div>\n<style scoped>\n    .dataframe tbody tr th:only-of-type {\n        vertical-align: middle;\n    }\n\n    .dataframe tbody tr th {\n        vertical-align: top;\n    }\n\n    .dataframe thead th {\n        text-align: right;\n    }\n</style>\n<table border=\"1\" class=\"dataframe\">\n  <thead>\n    <tr style=\"text-align: right;\">\n      <th></th>\n      <th>Unnamed: 0</th>\n      <th>state_code</th>\n      <th>latitude</th>\n      <th>longitude</th>\n      <th>zip_code</th>\n      <th>id</th>\n      <th>city</th>\n      <th>Unnamed: 6</th>\n      <th>name</th>\n      <th>labels</th>\n      <th>...</th>\n      <th>object_id</th>\n      <th>has_VC</th>\n      <th>has_angel</th>\n      <th>has_roundA</th>\n      <th>has_roundB</th>\n      <th>has_roundC</th>\n      <th>has_roundD</th>\n      <th>avg_participants</th>\n      <th>is_top500</th>\n      <th>status</th>\n    </tr>\n  </thead>\n  <tbody>\n    <tr>\n      <th>124</th>\n      <td>506</td>\n      <td>CA</td>\n      <td>37.54827</td>\n      <td>-121.988572</td>\n      <td>94538</td>\n      <td>c:28482</td>\n      <td>Fremont</td>\n      <td>Fremont CA 94538</td>\n      <td>Redwood Systems</td>\n      <td>1</td>\n      <td>...</td>\n      <td>c:28482</td>\n      <td>1</td>\n      <td>0</td>\n      <td>1</td>\n      <td>1</td>\n      <td>1</td>\n      <td>0</td>\n      <td>2.25</td>\n      <td>1</td>\n      <td>acquired</td>\n    </tr>\n    <tr>\n      <th>832</th>\n      <td>505</td>\n      <td>CA</td>\n      <td>37.48151</td>\n      <td>-121.945328</td>\n      <td>94538</td>\n      <td>c:28482</td>\n      <td>Fremont</td>\n      <td>NaN</td>\n      <td>Redwood Systems</td>\n      <td>1</td>\n      <td>...</td>\n      <td>c:28482</td>\n      <td>1</td>\n      <td>0</td>\n      <td>1</td>\n      <td>1</td>\n      <td>1</td>\n      <td>0</td>\n      <td>2.25</td>\n      <td>1</td>\n      <td>acquired</td>\n    </tr>\n  </tbody>\n</table>\n<p>2 rows × 49 columns</p>\n</div>"
     },
     "execution_count": 73,
     "metadata": {},
     "output_type": "execute_result"
    }
   ],
   "source": [
    "df.iloc[[124, 832]]"
   ],
   "metadata": {
    "collapsed": false
   }
  },
  {
   "cell_type": "markdown",
   "source": [],
   "metadata": {
    "collapsed": false
   }
  }
 ],
 "metadata": {
  "kernelspec": {
   "display_name": "Python 3",
   "language": "python",
   "name": "python3"
  },
  "language_info": {
   "codemirror_mode": {
    "name": "ipython",
    "version": 2
   },
   "file_extension": ".py",
   "mimetype": "text/x-python",
   "name": "python",
   "nbconvert_exporter": "python",
   "pygments_lexer": "ipython2",
   "version": "2.7.6"
  }
 },
 "nbformat": 4,
 "nbformat_minor": 0
}
